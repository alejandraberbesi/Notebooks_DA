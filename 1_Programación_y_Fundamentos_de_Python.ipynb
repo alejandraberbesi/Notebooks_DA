{
  "nbformat": 4,
  "nbformat_minor": 0,
  "metadata": {
    "colab": {
      "provenance": [],
      "authorship_tag": "ABX9TyOSjuqB9zniBKJBS9E8sbP+",
      "include_colab_link": true
    },
    "kernelspec": {
      "name": "python3",
      "display_name": "Python 3"
    },
    "language_info": {
      "name": "python"
    }
  },
  "cells": [
    {
      "cell_type": "markdown",
      "metadata": {
        "id": "view-in-github",
        "colab_type": "text"
      },
      "source": [
        "<a href=\"https://colab.research.google.com/github/alejandraberbesi/Notebooks_DA/blob/main/1_Programaci%C3%B3n_y_Fundamentos_de_Python.ipynb\" target=\"_parent\"><img src=\"https://colab.research.google.com/assets/colab-badge.svg\" alt=\"Open In Colab\"/></a>"
      ]
    },
    {
      "cell_type": "markdown",
      "source": [
        "<font color='red'>**Recuerda:**</font>\n",
        "Python es un lenguaje que se memoriza con práctica (no por ver conceptos una sola vez).\n",
        "\n",
        "Recomiendo paginas como:\n",
        "* Learn python (para profundizar): https://www.learnpython.org/es/\n",
        "* Hackerank (miles de ejercicios, en ingles) : https://www.hackerrank.com/domains/python\n",
        "* El libro de python (para profundizar): https://ellibrodepython.com/"
      ],
      "metadata": {
        "id": "qE76ctWWP-n9"
      }
    },
    {
      "cell_type": "markdown",
      "source": [
        "# Variables y tipos de datos"
      ],
      "metadata": {
        "id": "r7IuuEnkB2_h"
      }
    },
    {
      "cell_type": "markdown",
      "source": [
        "* Las variables son contenedores que almacenan información.\n",
        "* Los tipos de datos definen el tipo de información que puede contener una variable."
      ],
      "metadata": {
        "id": "_9Ct3OCbB-lR"
      }
    },
    {
      "cell_type": "markdown",
      "source": [
        "\n",
        "Los comentarios son anotaciones en el código que no se ejecutan y sirven para explicar el código. Son útiles para hacer el código más comprensible."
      ],
      "metadata": {
        "id": "jtEoUpSTCHy6"
      }
    },
    {
      "cell_type": "code",
      "execution_count": null,
      "metadata": {
        "id": "wayIbkEA_-fk"
      },
      "outputs": [],
      "source": [
        "#los mas comunes, seguiremos viendo otros durante la clase\n",
        "\n",
        "edad = 25        # Tipo de dato: int o entero\n",
        "altura = 1.75    # Tipo de dato: float o decimal\n",
        "nombre = \"Juan\"  # Tipo de dato: str o cadena de caracteres\n",
        "es_adulto = False  # Tipo de dato: bool o booleano"
      ]
    },
    {
      "cell_type": "code",
      "source": [
        "altura"
      ],
      "metadata": {
        "colab": {
          "base_uri": "https://localhost:8080/"
        },
        "id": "71FsRtuiCJj5",
        "outputId": "28f8274d-991a-42d4-b354-6e527a53b845"
      },
      "execution_count": null,
      "outputs": [
        {
          "output_type": "execute_result",
          "data": {
            "text/plain": [
              "1.75"
            ]
          },
          "metadata": {},
          "execution_count": 2
        }
      ]
    },
    {
      "cell_type": "code",
      "source": [
        "print(edad) #print: para mostrar información en la consola o terminal"
      ],
      "metadata": {
        "colab": {
          "base_uri": "https://localhost:8080/"
        },
        "id": "mX3nzOYmDSwK",
        "outputId": "bdcbde38-8d4c-4b8b-e3f8-8a0272463c2e"
      },
      "execution_count": null,
      "outputs": [
        {
          "output_type": "stream",
          "name": "stdout",
          "text": [
            "25\n"
          ]
        }
      ]
    },
    {
      "cell_type": "code",
      "source": [
        "print(\"contenido de la variable:\", nombre)\n",
        "print(\"contenido de la variable:\", edad)\n",
        "print(\"contenido de la variable:\", altura)"
      ],
      "metadata": {
        "colab": {
          "base_uri": "https://localhost:8080/"
        },
        "id": "F03bPRA7DoZJ",
        "outputId": "d26629f4-2756-40ef-ec64-11d6cd7bb82a"
      },
      "execution_count": null,
      "outputs": [
        {
          "output_type": "stream",
          "name": "stdout",
          "text": [
            "contenido de la variable: Juan\n",
            "contenido de la variable: 25\n",
            "contenido de la variable: 1.75\n"
          ]
        }
      ]
    },
    {
      "cell_type": "code",
      "source": [
        "nombre=\"james\"\n",
        "print(\"contenido de la variable:\", nombre)"
      ],
      "metadata": {
        "colab": {
          "base_uri": "https://localhost:8080/"
        },
        "id": "cd34sCoFvSR6",
        "outputId": "6d2ccf5a-b718-4484-c5b3-5ec8bad2256e"
      },
      "execution_count": null,
      "outputs": [
        {
          "output_type": "stream",
          "name": "stdout",
          "text": [
            "contenido de la variable: james\n"
          ]
        }
      ]
    },
    {
      "cell_type": "code",
      "source": [
        "print(edad, altura, nombre, es_adulto)"
      ],
      "metadata": {
        "colab": {
          "base_uri": "https://localhost:8080/"
        },
        "id": "KbCsHgT3CIM4",
        "outputId": "678b880e-face-4990-e6fc-4086f80f2932"
      },
      "execution_count": null,
      "outputs": [
        {
          "output_type": "stream",
          "name": "stdout",
          "text": [
            "25 1.75 james False\n"
          ]
        }
      ]
    },
    {
      "cell_type": "markdown",
      "source": [
        "Para saber un tipo especifico usar `type()`"
      ],
      "metadata": {
        "id": "1I0r1CW7DGrW"
      }
    },
    {
      "cell_type": "code",
      "source": [
        "print(type(nombre))\n",
        "print(type(edad))\n",
        "print(type(es_adulto))"
      ],
      "metadata": {
        "id": "JXGmU_HtOBlg",
        "outputId": "ab064592-e88b-4f81-d323-47823fd23a0f",
        "colab": {
          "base_uri": "https://localhost:8080/"
        }
      },
      "execution_count": null,
      "outputs": [
        {
          "output_type": "stream",
          "name": "stdout",
          "text": [
            "<class 'str'>\n",
            "<class 'int'>\n",
            "<class 'bool'>\n"
          ]
        }
      ]
    },
    {
      "cell_type": "code",
      "source": [
        "print(\"Tipo de variable Nombre:\", type(nombre))\n",
        "print(\"Tipo de variable Edad:\", type(edad))"
      ],
      "metadata": {
        "colab": {
          "base_uri": "https://localhost:8080/"
        },
        "id": "dpIWnB07CfoP",
        "outputId": "18a068ce-366c-46e8-b82f-cb215959760a"
      },
      "execution_count": null,
      "outputs": [
        {
          "output_type": "stream",
          "name": "stdout",
          "text": [
            "Tipo de variable Nombre: <class 'str'>\n",
            "Tipo de variable Edad: <class 'int'>\n"
          ]
        }
      ]
    },
    {
      "cell_type": "markdown",
      "source": [
        "# Operadores aritméticos y lógicos"
      ],
      "metadata": {
        "id": "ynRKZmqXFDXp"
      }
    },
    {
      "cell_type": "markdown",
      "source": [
        "Los `operadores aritméticos` en Python se utilizan para realizar operaciones matemáticas en variables. Aquí están los operadores aritméticos básicos:\n",
        "\n",
        "* `+` (Adición): Suma dos valores.\n",
        "* `-` (Sustracción): Resta el segundo valor del primero.\n",
        "* `*` (Multiplicación): Multiplica dos valores.\n",
        "* `/` (División): Divide el primer valor por el segundo.\n",
        "* `%` (Módulo): Devuelve el resto de la división.\n",
        "* `**` (Exponente): Eleva el primer valor a la potencia del segundo."
      ],
      "metadata": {
        "id": "ycp4RFy0FVLt"
      }
    },
    {
      "cell_type": "code",
      "source": [
        "a = 10\n",
        "b = 3\n",
        "\n",
        "suma = a + b\n",
        "resta = a - b\n",
        "multiplicacion = a * b\n",
        "division = a / b\n",
        "modulo = a % b\n",
        "potencia = a ** b\n",
        "\n",
        "# Imprimir resultados\n",
        "print(\"Suma:\", suma)\n",
        "print(\"Resta:\", resta)\n",
        "print(\"Multiplicación:\", multiplicacion)\n",
        "print(\"División:\", division)\n",
        "print(\"Módulo:\", modulo)\n",
        "print(\"Potencia:\", potencia)"
      ],
      "metadata": {
        "colab": {
          "base_uri": "https://localhost:8080/"
        },
        "id": "d8fTt_mKFU63",
        "outputId": "7e4db155-bd8c-4360-c6c7-df64036252a0"
      },
      "execution_count": null,
      "outputs": [
        {
          "output_type": "stream",
          "name": "stdout",
          "text": [
            "Suma: 13\n",
            "Resta: 7\n",
            "Multiplicación: 30\n",
            "División: 3.3333333333333335\n",
            "Módulo: 1\n",
            "Potencia: 1000\n"
          ]
        }
      ]
    },
    {
      "cell_type": "markdown",
      "source": [
        "Los `operadores lógicos` se utilizan para evaluar condiciones y producir resultados booleanos (True o False). Aquí están los operadores lógicos básicos:\n",
        "\n",
        "* `==` (Igual a): Comprueba si dos valores son iguales.\n",
        "* `!=` (No igual a): Comprueba si dos valores son diferentes.\n",
        "* `<` (Menor que): Comprueba si el primer valor es menor que el segundo.\n",
        "* `>` (Mayor que): Comprueba si el primer valor es mayor que el segundo.\n",
        "* `<=` (Menor o igual a): Comprueba si el primer valor es menor o igual al segundo.\n",
        "* `>=` (Mayor o igual a): Comprueba si el primer valor es mayor o igual al segundo."
      ],
      "metadata": {
        "id": "PkNr9CxdFtc4"
      }
    },
    {
      "cell_type": "code",
      "source": [
        "x = 5\n",
        "y = 10\n",
        "\n",
        "igual = x == y\n",
        "no_igual = x != y\n",
        "menor_que = x < y\n",
        "mayor_que = x > y\n",
        "menor_igual = x <= y\n",
        "mayor_igual = x >= y\n",
        "\n",
        "# Imprimir resultados\n",
        "print(\"Igual a:\", igual)\n",
        "print(\"No igual a:\", no_igual)\n",
        "print(\"Menor que:\", menor_que)\n",
        "print(\"Mayor que:\", mayor_que)\n",
        "print(\"Menor o igual a:\", menor_igual)\n",
        "print(\"Mayor o igual a:\", mayor_igual)"
      ],
      "metadata": {
        "id": "JVWI70AgDNhB",
        "colab": {
          "base_uri": "https://localhost:8080/"
        },
        "outputId": "304c6233-0207-4d21-e44a-94b43f552696"
      },
      "execution_count": null,
      "outputs": [
        {
          "output_type": "stream",
          "name": "stdout",
          "text": [
            "Igual a: False\n",
            "No igual a: True\n",
            "Menor que: True\n",
            "Mayor que: False\n",
            "Menor o igual a: True\n",
            "Mayor o igual a: False\n"
          ]
        }
      ]
    },
    {
      "cell_type": "markdown",
      "source": [
        "# Estructuras básicas para almacenar datos"
      ],
      "metadata": {
        "id": "_fr_ScRcI2Qt"
      }
    },
    {
      "cell_type": "markdown",
      "source": [
        "La elección entre listas, tuplas o diccionarios dependerá de la naturaleza de tus datos y las operaciones que planeas realizar sobre ellos. Cada estructura tiene sus fortalezas y debilidades, así que selecciona la que mejor se adapte a tus necesidades específicas"
      ],
      "metadata": {
        "id": "K35vnOu1LgC4"
      }
    },
    {
      "cell_type": "markdown",
      "source": [
        "### Listas"
      ],
      "metadata": {
        "id": "_BAC5wOKKxgH"
      }
    },
    {
      "cell_type": "markdown",
      "source": [
        "* Definición: Una lista es una colección ordenada y modificable de elementos.\n",
        "* Sintaxis: Se crean utilizando corchetes cuadrados.\n",
        "\n",
        "**Ventajas:**\n",
        "* Modificables: Puedes cambiar, agregar o eliminar elementos.\n",
        "* Versatilidad: Pueden contener elementos de diferentes tipos.\n",
        "\n",
        "**Desventajas:**\n",
        "* Uso de memoria: Pueden consumir más memoria que otras estructuras debido a su capacidad de modificación."
      ],
      "metadata": {
        "id": "ctdf2zakJBrd"
      }
    },
    {
      "cell_type": "code",
      "source": [
        "# Crear una lista\n",
        "mi_lista = [1, 2, 3, \"cuatro\", 5.0]\n",
        "mi_lista"
      ],
      "metadata": {
        "colab": {
          "base_uri": "https://localhost:8080/"
        },
        "id": "zZonUqRhJHUD",
        "outputId": "5662d382-6a07-41b7-e1cb-765ba79e126f"
      },
      "execution_count": null,
      "outputs": [
        {
          "output_type": "execute_result",
          "data": {
            "text/plain": [
              "[1, 2, 3, 'cuatro', 5.0]"
            ]
          },
          "metadata": {},
          "execution_count": 11
        }
      ]
    },
    {
      "cell_type": "code",
      "source": [
        "# Acceder a elementos\n",
        "primer_elemento = mi_lista[0]\n",
        "ultimo_elemento = mi_lista[-1]     # -1 para seleccionar el ultimo elemento\n",
        "\n",
        "print(primer_elemento)\n",
        "print(ultimo_elemento)"
      ],
      "metadata": {
        "colab": {
          "base_uri": "https://localhost:8080/"
        },
        "id": "_St0Kiy4JKZ1",
        "outputId": "3aa5a58c-c345-44fb-e157-1b8ddde40bed"
      },
      "execution_count": null,
      "outputs": [
        {
          "output_type": "stream",
          "name": "stdout",
          "text": [
            "1\n",
            "5.0\n"
          ]
        }
      ]
    },
    {
      "cell_type": "code",
      "source": [
        "mi_lista[4]"
      ],
      "metadata": {
        "colab": {
          "base_uri": "https://localhost:8080/"
        },
        "id": "4j5rTumARfrk",
        "outputId": "61d400e0-e79f-419a-ef57-179c223ec555"
      },
      "execution_count": null,
      "outputs": [
        {
          "output_type": "execute_result",
          "data": {
            "text/plain": [
              "5.0"
            ]
          },
          "metadata": {},
          "execution_count": 13
        }
      ]
    },
    {
      "cell_type": "code",
      "source": [
        "# Modificar elementos\n",
        "mi_lista[3] = \"cuatro_modificado\"\n",
        "mi_lista"
      ],
      "metadata": {
        "colab": {
          "base_uri": "https://localhost:8080/"
        },
        "id": "tTnaQFOaJQoz",
        "outputId": "e368da47-073f-4294-cb0b-e4c398cb2353"
      },
      "execution_count": null,
      "outputs": [
        {
          "output_type": "execute_result",
          "data": {
            "text/plain": [
              "[1, 2, 3, 'cuatro_modificado', 5.0]"
            ]
          },
          "metadata": {},
          "execution_count": 14
        }
      ]
    },
    {
      "cell_type": "code",
      "source": [
        "# Agregar elementos\n",
        "mi_lista.append(6)\n",
        "mi_lista"
      ],
      "metadata": {
        "colab": {
          "base_uri": "https://localhost:8080/"
        },
        "id": "cNmxODCVI3gD",
        "outputId": "d82dd001-aa0f-49ee-ef56-9d1c72bd8feb"
      },
      "execution_count": null,
      "outputs": [
        {
          "output_type": "execute_result",
          "data": {
            "text/plain": [
              "[1, 2, 3, 'cuatro_modificado', 5.0, 6]"
            ]
          },
          "metadata": {},
          "execution_count": 15
        }
      ]
    },
    {
      "cell_type": "code",
      "source": [
        "print(type(mi_lista))"
      ],
      "metadata": {
        "colab": {
          "base_uri": "https://localhost:8080/"
        },
        "id": "YGevdvRfQ-eL",
        "outputId": "3df62e47-6af2-4f61-9df7-2110ea2aca9c"
      },
      "execution_count": null,
      "outputs": [
        {
          "output_type": "stream",
          "name": "stdout",
          "text": [
            "<class 'list'>\n"
          ]
        }
      ]
    },
    {
      "cell_type": "markdown",
      "source": [
        "## Tuplas"
      ],
      "metadata": {
        "id": "_9GwUkqJK0kX"
      }
    },
    {
      "cell_type": "markdown",
      "source": [
        "* Definición: Una tupla es una colección ordenada e inmutable de elementos.\n",
        "* Sintaxis: Se crean utilizando paréntesis.\n",
        "\n",
        "**Ventajas:**\n",
        "* Inmutables: Protege los datos contra modificaciones accidentales.\n",
        "* Eficiencia: Más eficientes en términos de espacio y tiempo de ejecución.\n",
        "\n",
        "**Desventajas:**\n",
        "* Limitadas: No es tan facil de modificar después de la creación."
      ],
      "metadata": {
        "id": "gdyZ7KmaJZnn"
      }
    },
    {
      "cell_type": "code",
      "source": [
        "# Crear una tupla\n",
        "mi_tupla = (1, 2, 3, \"cuatro\", 5.0)\n",
        "mi_tupla"
      ],
      "metadata": {
        "colab": {
          "base_uri": "https://localhost:8080/"
        },
        "id": "Cv_POkpAMKRh",
        "outputId": "ebecf756-49a4-4e65-ce2e-03d31da0b303"
      },
      "execution_count": null,
      "outputs": [
        {
          "output_type": "execute_result",
          "data": {
            "text/plain": [
              "(1, 2, 3, 'cuatro', 5.0)"
            ]
          },
          "metadata": {},
          "execution_count": 17
        }
      ]
    },
    {
      "cell_type": "code",
      "source": [
        "# Acceder a elementos\n",
        "primer_elemento = mi_tupla[0]\n",
        "ultimo_elemento = mi_tupla[-1]\n",
        "\n",
        "print(primer_elemento)\n",
        "print(ultimo_elemento)"
      ],
      "metadata": {
        "colab": {
          "base_uri": "https://localhost:8080/"
        },
        "id": "_MfWc-XFLKj_",
        "outputId": "5cdd2e7d-3531-496d-aacb-324240f99615"
      },
      "execution_count": null,
      "outputs": [
        {
          "output_type": "stream",
          "name": "stdout",
          "text": [
            "1\n",
            "5.0\n"
          ]
        }
      ]
    },
    {
      "cell_type": "code",
      "source": [
        "print(type(mi_tupla))"
      ],
      "metadata": {
        "colab": {
          "base_uri": "https://localhost:8080/"
        },
        "id": "xNATEv03RCYw",
        "outputId": "03a145c8-e654-48de-8946-9be56a58aa84"
      },
      "execution_count": null,
      "outputs": [
        {
          "output_type": "stream",
          "name": "stdout",
          "text": [
            "<class 'tuple'>\n"
          ]
        }
      ]
    },
    {
      "cell_type": "markdown",
      "source": [
        "## Diccionarios"
      ],
      "metadata": {
        "id": "1Ct-4yY5LMlE"
      }
    },
    {
      "cell_type": "markdown",
      "source": [
        "* Definición: Un diccionario es una colección no ordenada de pares clave-valor.\n",
        "* Sintaxis: Se crean utilizando llaves.\n",
        "\n",
        "**Ventajas:**\n",
        "* Flexibilidad: Permite asociar datos de manera estructurada mediante claves.\n",
        "* Búsqueda eficiente: La búsqueda por clave es rápida.\n",
        "\n",
        "**Desventajas:**\n",
        "* No ordenados: Los elementos no tienen un orden predecible."
      ],
      "metadata": {
        "id": "P21ZbOlRLJ6F"
      }
    },
    {
      "cell_type": "code",
      "source": [
        "# Crear un diccionario\n",
        "mi_diccionario = {\"clave1\": \"valor1\",\n",
        "                  \"clave2\": 2,\n",
        "                  \"clave3\": [1, 2, 3]}\n",
        "mi_diccionario"
      ],
      "metadata": {
        "colab": {
          "base_uri": "https://localhost:8080/"
        },
        "id": "qy8iMqlpOFPx",
        "outputId": "4b2fb884-8ac6-496a-e4b1-6b3e81ea0172"
      },
      "execution_count": null,
      "outputs": [
        {
          "output_type": "execute_result",
          "data": {
            "text/plain": [
              "{'clave1': 'valor1', 'clave2': 2, 'clave3': [1, 2, 3]}"
            ]
          },
          "metadata": {},
          "execution_count": 20
        }
      ]
    },
    {
      "cell_type": "code",
      "source": [
        "# Acceder a valores por clave\n",
        "variable1 = mi_diccionario[\"clave1\"]\n",
        "\n",
        "variable2 = mi_diccionario[\"clave3\"]\n",
        "\n",
        "print(variable1)\n",
        "print(variable2)"
      ],
      "metadata": {
        "colab": {
          "base_uri": "https://localhost:8080/"
        },
        "id": "9pYbrHDBOIiy",
        "outputId": "5ecb81b6-d586-4f64-bed1-f5a3d1d10bba"
      },
      "execution_count": null,
      "outputs": [
        {
          "output_type": "stream",
          "name": "stdout",
          "text": [
            "valor1\n",
            "[1, 2, 3]\n"
          ]
        }
      ]
    },
    {
      "cell_type": "code",
      "source": [
        "mi_diccionario[\"clave2\"]"
      ],
      "metadata": {
        "colab": {
          "base_uri": "https://localhost:8080/"
        },
        "id": "DipfrYWDJFQ2",
        "outputId": "9d3132dc-610b-4c3a-f03c-b6f519da6019"
      },
      "execution_count": null,
      "outputs": [
        {
          "output_type": "execute_result",
          "data": {
            "text/plain": [
              "2"
            ]
          },
          "metadata": {},
          "execution_count": 22
        }
      ]
    },
    {
      "cell_type": "code",
      "source": [
        "# Modificar valores\n",
        "mi_diccionario[\"clave3\"] = [4, 5, 6]\n",
        "mi_diccionario"
      ],
      "metadata": {
        "colab": {
          "base_uri": "https://localhost:8080/"
        },
        "id": "VGYCJ_JMOHYz",
        "outputId": "cc81d18a-575a-414d-841a-fde71d717f8e"
      },
      "execution_count": null,
      "outputs": [
        {
          "output_type": "execute_result",
          "data": {
            "text/plain": [
              "{'clave1': 'valor1', 'clave2': 2, 'clave3': [4, 5, 6]}"
            ]
          },
          "metadata": {},
          "execution_count": 23
        }
      ]
    },
    {
      "cell_type": "code",
      "source": [
        "# Agregar nuevos pares clave-valor\n",
        "mi_diccionario[\"clave4\"] = \"valor4\"\n",
        "\n",
        "# Imprimir el diccionario\n",
        "print(\"Diccionario:\", mi_diccionario)"
      ],
      "metadata": {
        "colab": {
          "base_uri": "https://localhost:8080/"
        },
        "id": "OQknS090JYvD",
        "outputId": "6cb31cc3-8957-4743-b4a6-93f1bcf933f2"
      },
      "execution_count": null,
      "outputs": [
        {
          "output_type": "stream",
          "name": "stdout",
          "text": [
            "Diccionario: {'clave1': 'valor1', 'clave2': 2, 'clave3': [4, 5, 6], 'clave4': 'valor4'}\n"
          ]
        }
      ]
    },
    {
      "cell_type": "code",
      "source": [
        "print(type(mi_diccionario))"
      ],
      "metadata": {
        "colab": {
          "base_uri": "https://localhost:8080/"
        },
        "id": "v6aMtvC1RHfF",
        "outputId": "f71afc0d-0f46-49dd-80e3-954406ff16d3"
      },
      "execution_count": null,
      "outputs": [
        {
          "output_type": "stream",
          "name": "stdout",
          "text": [
            "<class 'dict'>\n"
          ]
        }
      ]
    },
    {
      "cell_type": "markdown",
      "source": [
        "# Control de flujo"
      ],
      "metadata": {
        "id": "fIriMDBhOY4y"
      }
    },
    {
      "cell_type": "markdown",
      "source": [
        "El control de flujo en Python se refiere a la capacidad de modificar el flujo de ejecución del programa.\n",
        "Las estructuras básicas para controlar el flujo son las condicionales (`if`, `elif`, `else`) y los bucles (`for` y `while`)."
      ],
      "metadata": {
        "id": "4z-eLdh_Oknx"
      }
    },
    {
      "cell_type": "markdown",
      "source": [
        "## Condicionales"
      ],
      "metadata": {
        "id": "MDPLAbCTOrsD"
      }
    },
    {
      "cell_type": "markdown",
      "source": [
        "\n",
        "1. Estructura básica: `if`, `elif`, `else`"
      ],
      "metadata": {
        "id": "J2owe4cKOpGy"
      }
    },
    {
      "cell_type": "code",
      "source": [
        "# Ejemplo de condicional\n",
        "edad = 15\n",
        "\n",
        "if edad < 18:\n",
        "    print(\"Eres menor de edad.\")\n",
        "elif edad == 18:\n",
        "    print(\"Acabas de alcanzar la mayoría de edad.\")\n",
        "else:\n",
        "    print(\"Eres mayor de edad.\")"
      ],
      "metadata": {
        "colab": {
          "base_uri": "https://localhost:8080/"
        },
        "id": "bSPLU7QjJFhK",
        "outputId": "cc4d3d60-b50c-42e1-ca21-4bd969e8b8af"
      },
      "execution_count": null,
      "outputs": [
        {
          "output_type": "stream",
          "name": "stdout",
          "text": [
            "Eres menor de edad.\n"
          ]
        }
      ]
    },
    {
      "cell_type": "markdown",
      "source": [
        "Operadores aritmeticos:"
      ],
      "metadata": {
        "id": "YQMG5j6pLHoy"
      }
    },
    {
      "cell_type": "code",
      "source": [
        "numero = 10\n",
        "\n",
        "if numero % 2 == 0:\n",
        "    print(\"El número es par.\")\n",
        "else:\n",
        "    print(\"El número es impar.\")"
      ],
      "metadata": {
        "colab": {
          "base_uri": "https://localhost:8080/"
        },
        "id": "H0-hjf8AOuxZ",
        "outputId": "66fe2626-bbf1-4804-c2a9-61962a07f58a"
      },
      "execution_count": null,
      "outputs": [
        {
          "output_type": "stream",
          "name": "stdout",
          "text": [
            "El número es par.\n"
          ]
        }
      ]
    },
    {
      "cell_type": "markdown",
      "source": [
        "## Bucles"
      ],
      "metadata": {
        "id": "AjkpStS_O-di"
      }
    },
    {
      "cell_type": "markdown",
      "source": [
        "1. Bucle `for`:\n",
        "Itera sobre una secuencia (lista, tupla, cadena, etc.)."
      ],
      "metadata": {
        "id": "PjgRw9SZPQvj"
      }
    },
    {
      "cell_type": "code",
      "source": [
        "# Ejemplo de bucle con lista\n",
        "frutas = [\"manzana\", \"banana\", \"cereza\"]\n",
        "\n",
        "for nombre in frutas: #sintaxis inicial\n",
        "  print(nombre) #proceso"
      ],
      "metadata": {
        "colab": {
          "base_uri": "https://localhost:8080/"
        },
        "id": "BO2aqVjdO7QZ",
        "outputId": "c3789b23-82a8-4f04-bc4a-904ad4238ef9"
      },
      "execution_count": null,
      "outputs": [
        {
          "output_type": "stream",
          "name": "stdout",
          "text": [
            "manzana\n",
            "banana\n",
            "cereza\n"
          ]
        }
      ]
    },
    {
      "cell_type": "code",
      "source": [
        "estudiantes = [\"andres\", \"maria\", \"juana\"]\n",
        "\n",
        "for i in estudiantes: #sintaxis inicial\n",
        "  print(f\"verificar si asiste a clase: {i}\") #proceso"
      ],
      "metadata": {
        "colab": {
          "base_uri": "https://localhost:8080/"
        },
        "id": "ljGGnEtFqKqZ",
        "outputId": "370034e0-1e35-4e0f-ca72-60e1dbe5638b"
      },
      "execution_count": null,
      "outputs": [
        {
          "output_type": "stream",
          "name": "stdout",
          "text": [
            "verificar si asiste a clase: andres\n",
            "verificar si asiste a clase: maria\n",
            "verificar si asiste a clase: juana\n"
          ]
        }
      ]
    },
    {
      "cell_type": "code",
      "source": [
        "# Lista de tuplas (nombre, edad)\n",
        "personas = [(\"Ana\", 22), (\"Luis\", 17), (\"Marta\", 19), (\"Juan\", 16), (\"Lucía\", 21)]\n",
        "\n",
        "for i in personas:\n",
        "  print(i)"
      ],
      "metadata": {
        "colab": {
          "base_uri": "https://localhost:8080/"
        },
        "id": "8uDfcpPOYMLS",
        "outputId": "ea2445d6-87d2-48f3-85fe-cfce6055ab58"
      },
      "execution_count": null,
      "outputs": [
        {
          "output_type": "stream",
          "name": "stdout",
          "text": [
            "('Ana', 22)\n",
            "('Luis', 17)\n",
            "('Marta', 19)\n",
            "('Juan', 16)\n",
            "('Lucía', 21)\n"
          ]
        }
      ]
    },
    {
      "cell_type": "code",
      "source": [
        "# Lista de tuplas (nombre, edad)\n",
        "personas = [(\"Ana\", 22), (\"Luis\", 17), (\"Marta\", 19), (\"Juan\", 16), (\"Lucía\", 21)]\n",
        "\n",
        "# Iterar sobre la lista de tuplas\n",
        "for nombre, edad in personas:\n",
        "    print(f\"{nombre} tiene {edad} años.\")"
      ],
      "metadata": {
        "colab": {
          "base_uri": "https://localhost:8080/"
        },
        "id": "lQwvqVlQ3kr5",
        "outputId": "908d2003-bb8e-488b-c44b-247147159fe3"
      },
      "execution_count": null,
      "outputs": [
        {
          "output_type": "stream",
          "name": "stdout",
          "text": [
            "Ana tiene 22 años.\n",
            "Luis tiene 17 años.\n",
            "Marta tiene 19 años.\n",
            "Juan tiene 16 años.\n",
            "Lucía tiene 21 años.\n"
          ]
        }
      ]
    },
    {
      "cell_type": "code",
      "source": [
        "# Diccionario de ejemplo\n",
        "diccionario = {\"manzana\": 3,\n",
        "               \"banana\": 5,\n",
        "               \"cereza\": 7}"
      ],
      "metadata": {
        "id": "8J74x0PbnNnB"
      },
      "execution_count": null,
      "outputs": []
    },
    {
      "cell_type": "code",
      "source": [
        "# Iterar (moverse) sobre pares clave-valor\n",
        "for i, j in diccionario.items():\n",
        "    print(f\"nombre de la Clave: {i}, elemento del Valor: {j}\")"
      ],
      "metadata": {
        "colab": {
          "base_uri": "https://localhost:8080/"
        },
        "id": "xDrDAbTf3TpO",
        "outputId": "d0a967d6-ecfd-4f7c-b9fb-4d2dcc41c319"
      },
      "execution_count": null,
      "outputs": [
        {
          "output_type": "stream",
          "name": "stdout",
          "text": [
            "nombre de la Clave: manzana, elemento del Valor: [2, [3, [4, [5]]]]\n",
            "nombre de la Clave: banana, elemento del Valor: 5\n",
            "nombre de la Clave: cereza, elemento del Valor: 7\n"
          ]
        }
      ]
    },
    {
      "cell_type": "code",
      "source": [
        "# moverse SOLO sobre las claves\n",
        "for clave in diccionario.keys():\n",
        "    print( f\"Clave del diccionario:{clave}\")"
      ],
      "metadata": {
        "colab": {
          "base_uri": "https://localhost:8080/"
        },
        "id": "5QmjM6PX3IDF",
        "outputId": "2c5a2ba7-e777-45f5-9a40-ac2f68cbf482"
      },
      "execution_count": null,
      "outputs": [
        {
          "output_type": "stream",
          "name": "stdout",
          "text": [
            "Clave del diccionario:manzana\n",
            "Clave del diccionario:banana\n",
            "Clave del diccionario:cereza\n"
          ]
        }
      ]
    },
    {
      "cell_type": "code",
      "source": [
        "# Iterar sobre los valores\n",
        "for valor in diccionario.values():\n",
        "  print(f\"Valor: {valor}\")"
      ],
      "metadata": {
        "colab": {
          "base_uri": "https://localhost:8080/"
        },
        "id": "SRWbjRtY3Q-G",
        "outputId": "db0ba07b-37be-4103-b66d-d765d57943b3"
      },
      "execution_count": null,
      "outputs": [
        {
          "output_type": "stream",
          "name": "stdout",
          "text": [
            "Valor: 3\n",
            "Valor: 5\n",
            "Valor: 7\n"
          ]
        }
      ]
    },
    {
      "cell_type": "markdown",
      "source": [
        "2. Bucle `while`:\n",
        "Se ejecuta mientras una condición sea verdadera."
      ],
      "metadata": {
        "id": "KeooHY_ePrh3"
      }
    },
    {
      "cell_type": "code",
      "source": [
        "# Ejemplo de bucle while\n",
        "contador = 0\n",
        "\n",
        "while contador < 5:\n",
        "    print(\"el Contador va en:\", contador)\n",
        "    contador += 1"
      ],
      "metadata": {
        "colab": {
          "base_uri": "https://localhost:8080/"
        },
        "id": "NO6HSTPnPpYA",
        "outputId": "5c1329af-821b-4688-bcd0-47dc9fcf8cf8"
      },
      "execution_count": null,
      "outputs": [
        {
          "output_type": "stream",
          "name": "stdout",
          "text": [
            "el Contador va en: 0\n",
            "el Contador va en: 1\n",
            "el Contador va en: 2\n",
            "el Contador va en: 3\n",
            "el Contador va en: 4\n"
          ]
        }
      ]
    },
    {
      "cell_type": "markdown",
      "source": [
        "3. Control de bucles: `break` y `continue`"
      ],
      "metadata": {
        "id": "62PoJxmSPwm3"
      }
    },
    {
      "cell_type": "markdown",
      "source": [
        "* `break`: Sale del bucle.\n",
        "* `continue`: Salta a la siguiente iteración sin ejecutar el resto del código en el bucle."
      ],
      "metadata": {
        "id": "8Vt78GzOP0Pm"
      }
    },
    {
      "cell_type": "code",
      "source": [
        "for i in range(10):\n",
        "  print(i)"
      ],
      "metadata": {
        "colab": {
          "base_uri": "https://localhost:8080/"
        },
        "id": "WYvOc0icNE78",
        "outputId": "e3c1974d-d9c0-4097-c427-349f16c53ce3"
      },
      "execution_count": null,
      "outputs": [
        {
          "output_type": "stream",
          "name": "stdout",
          "text": [
            "0\n",
            "1\n",
            "2\n",
            "3\n",
            "4\n",
            "5\n",
            "6\n",
            "7\n",
            "8\n",
            "9\n"
          ]
        }
      ]
    },
    {
      "cell_type": "code",
      "source": [
        "for i in range(10):\n",
        "\n",
        "    if i == 3: # Verifica si el número actual es 3\n",
        "\n",
        "        print(\"Se encontró el número 3. Continuando con la siguiente iteración.\")\n",
        "\n",
        "        continue # Salta a la siguiente iteración sin ejecutar el resto del código en el bucle, osea el print\n",
        "\n",
        "    elif i == 7:  #Verifica si el número actual es 7\n",
        "\n",
        "        print(\"Saltando la iteración para el número 7.\")\n",
        "\n",
        "        break # Terminando el bucle cuando se encuentra el número 7\n",
        "\n",
        "    print(i)\n"
      ],
      "metadata": {
        "colab": {
          "base_uri": "https://localhost:8080/"
        },
        "id": "N67UVvTSPuHO",
        "outputId": "6a00ee9a-c506-45b4-df9f-1a73fd3a9b5f"
      },
      "execution_count": null,
      "outputs": [
        {
          "output_type": "stream",
          "name": "stdout",
          "text": [
            "0\n",
            "1\n",
            "2\n",
            "Se encontró el número 3. Continuando con la siguiente iteración.\n",
            "4\n",
            "5\n",
            "6\n",
            "Saltando la iteración para el número 7.\n"
          ]
        }
      ]
    },
    {
      "cell_type": "markdown",
      "source": [
        "# Funciones"
      ],
      "metadata": {
        "id": "16YFQLmSQ2Um"
      }
    },
    {
      "cell_type": "markdown",
      "source": [
        "Las funciones son bloques de código reutilizables que realizan una tarea específica."
      ],
      "metadata": {
        "id": "vPuZetQwRRmf"
      }
    },
    {
      "cell_type": "code",
      "source": [
        "# Definición de una función\n",
        "def saludar_hoy():\n",
        "    print(\"¡Hola, bienvenido!\")\n",
        "\n",
        "#  función simple que imprime un saludo\n",
        "saludar_hoy()"
      ],
      "metadata": {
        "colab": {
          "base_uri": "https://localhost:8080/"
        },
        "id": "z_h4EujyP4Wf",
        "outputId": "6eb7cbcb-49f0-4b02-ad87-6b554d5c8f0f"
      },
      "execution_count": null,
      "outputs": [
        {
          "output_type": "stream",
          "name": "stdout",
          "text": [
            "¡Hola, bienvenido!\n"
          ]
        }
      ]
    },
    {
      "cell_type": "markdown",
      "source": [
        "Las funciones pueden aceptar parámetros, que son variables que reciben valores cuando se llama a la función."
      ],
      "metadata": {
        "id": "VgC_9DuKRcH6"
      }
    },
    {
      "cell_type": "code",
      "source": [
        "# Función con parámetro\n",
        "def saludar_persona(nombre):\n",
        "    print(\"¡Hola,\", nombre, \"!\")"
      ],
      "metadata": {
        "id": "PuwrZX1TzkGH"
      },
      "execution_count": null,
      "outputs": []
    },
    {
      "cell_type": "code",
      "source": [
        "# Función con parámetro\n",
        "def saludar_persona(nombre):\n",
        "    print(\"¡Hola,\", nombre, \"!\")\n",
        "\n",
        "# Llamada a la función con un argumento\n",
        "saludar_persona(\"Juan\")\n",
        "saludar_persona(\"Andres\")\n",
        "saludar_persona(\"Ale\")"
      ],
      "metadata": {
        "colab": {
          "base_uri": "https://localhost:8080/"
        },
        "id": "KYrWYTxeRV6m",
        "outputId": "ce327bf4-911f-4178-b053-66e27ccb0dba"
      },
      "execution_count": null,
      "outputs": [
        {
          "output_type": "stream",
          "name": "stdout",
          "text": [
            "¡Hola, Juan !\n",
            "¡Hola, Andres !\n",
            "¡Hola, Ale !\n"
          ]
        }
      ]
    },
    {
      "cell_type": "code",
      "source": [
        "saludar_persona(99)"
      ],
      "metadata": {
        "colab": {
          "base_uri": "https://localhost:8080/"
        },
        "id": "f2oHPGYEaDSg",
        "outputId": "19940bb2-4ec6-43c9-b5f3-1ec3ce216745"
      },
      "execution_count": null,
      "outputs": [
        {
          "output_type": "stream",
          "name": "stdout",
          "text": [
            "¡Hola, 99 !\n"
          ]
        }
      ]
    },
    {
      "cell_type": "markdown",
      "source": [
        "**Valor Predeterminado en Parámetros**"
      ],
      "metadata": {
        "id": "kpF4WVGsRpkA"
      }
    },
    {
      "cell_type": "code",
      "source": [
        "# Función con parámetro y valor predeterminado\n",
        "# En este ejemplo, si no se proporciona el segundo argumento, se usa el valor predeterminado \"Hola\".\n",
        "\n",
        "def saludar_avanzado(nombre, saludo=\"Hola\"):\n",
        "    print(saludo, nombre, \"!\")\n",
        "\n",
        "# Llamada a la función sin especificar el segundo argumento\n",
        "saludar_avanzado(\"Ana\")"
      ],
      "metadata": {
        "colab": {
          "base_uri": "https://localhost:8080/"
        },
        "id": "24_6tthcReMn",
        "outputId": "72d0a851-b0ca-4bfc-fd99-16782011666c"
      },
      "execution_count": null,
      "outputs": [
        {
          "output_type": "stream",
          "name": "stdout",
          "text": [
            "Hola Ana !\n"
          ]
        }
      ]
    },
    {
      "cell_type": "code",
      "source": [
        "# Llamada a la función especificando el segundo argumento\n",
        "saludar_avanzado(\"Carlos\", \"Buen día\")"
      ],
      "metadata": {
        "colab": {
          "base_uri": "https://localhost:8080/"
        },
        "id": "DNXfg7ABP-Zn",
        "outputId": "eb7d997d-fe8c-4b3d-bd94-10e52f293e30"
      },
      "execution_count": null,
      "outputs": [
        {
          "output_type": "stream",
          "name": "stdout",
          "text": [
            "Buen día Carlos !\n"
          ]
        }
      ]
    },
    {
      "cell_type": "code",
      "source": [
        "#otra alternativa\n",
        "\n",
        "def saludar_avanzado(nombre):\n",
        "    saludo=\"Hola\"\n",
        "    print(saludo, nombre, \"!\")\n",
        "\n",
        "# Llamada a la función sin especificar el segundo argumento\n",
        "saludar_avanzado(\"Ana\")"
      ],
      "metadata": {
        "colab": {
          "base_uri": "https://localhost:8080/"
        },
        "id": "PrL_k_ndk4Kf",
        "outputId": "09cae3fd-fdf7-418d-e9e7-d08a973c0925"
      },
      "execution_count": null,
      "outputs": [
        {
          "output_type": "stream",
          "name": "stdout",
          "text": [
            "Hola Ana !\n"
          ]
        }
      ]
    },
    {
      "cell_type": "markdown",
      "source": [
        "**Retorno de Valores**"
      ],
      "metadata": {
        "id": "0eNCGncxR5c_"
      }
    },
    {
      "cell_type": "markdown",
      "source": [
        "Las funciones pueden devolver un valor utilizando la palabra clave `return`."
      ],
      "metadata": {
        "id": "VSK3mR7IR8US"
      }
    },
    {
      "cell_type": "code",
      "source": [
        "# Función con retorno de valor\n",
        "def suma(a, b):\n",
        "    print(\"voy a hacer una suma\")\n",
        "    return a+b\n",
        "\n",
        "# Llamada a la función y almacenamiento del resultado\n",
        "resultado_suma = suma(3, 4)"
      ],
      "metadata": {
        "colab": {
          "base_uri": "https://localhost:8080/"
        },
        "id": "SAmTnS5GRuy1",
        "outputId": "7a5553f9-c6c5-4e25-af02-8ee21234672a"
      },
      "execution_count": null,
      "outputs": [
        {
          "output_type": "stream",
          "name": "stdout",
          "text": [
            "voy a hacer una suma\n"
          ]
        }
      ]
    },
    {
      "cell_type": "code",
      "source": [
        "print(\"El resultado de la suma es:\", resultado_suma)"
      ],
      "metadata": {
        "colab": {
          "base_uri": "https://localhost:8080/"
        },
        "id": "BToJ0XKl1hdL",
        "outputId": "c13fed09-da3e-49c0-f772-87f9ed4de645"
      },
      "execution_count": null,
      "outputs": [
        {
          "output_type": "stream",
          "name": "stdout",
          "text": [
            "El resultado de la suma es: 7\n"
          ]
        }
      ]
    },
    {
      "cell_type": "markdown",
      "source": [
        "**Documentación de Funciones**\n",
        "\n",
        "Es una buena práctica documentar tus funciones para que otros (y tú mismo) comprendan su propósito y cómo deben usarse.\n",
        "\n",
        "En tus proyectos personales es opcional hacerlo pero lo recomiendo para trabajos en el campo, cuando muchas personas usan el mismo código facilita el trabajo en equipo."
      ],
      "metadata": {
        "id": "9kQEPeaOSDpv"
      }
    },
    {
      "cell_type": "code",
      "source": [
        "def cuadrado(numero):\n",
        "    \"\"\"\n",
        "    Esta función devuelve el cuadrado de un número.\n",
        "\n",
        "    Parámetros:\n",
        "    - numero (int): El número para el cual se calculará el cuadrado.\n",
        "\n",
        "    Retorna:\n",
        "    int: El cuadrado del número.\n",
        "    \"\"\"\n",
        "    return numero ** 2\n",
        "\n",
        "cuadrado(7)"
      ],
      "metadata": {
        "colab": {
          "base_uri": "https://localhost:8080/"
        },
        "id": "ykmbttsoR_U1",
        "outputId": "bf35ba63-32ac-47cd-b144-65d021deff0b"
      },
      "execution_count": null,
      "outputs": [
        {
          "output_type": "execute_result",
          "data": {
            "text/plain": [
              "49"
            ]
          },
          "metadata": {},
          "execution_count": 104
        }
      ]
    },
    {
      "cell_type": "markdown",
      "source": [
        "# Ejercicios adicionales (en casa)"
      ],
      "metadata": {
        "id": "f1PJlTIUyL2K"
      }
    },
    {
      "cell_type": "markdown",
      "source": [
        "## Ejercicio 1: Variables y Operadores\n"
      ],
      "metadata": {
        "id": "beg0oABGyUEf"
      }
    },
    {
      "cell_type": "markdown",
      "source": [
        "**Descripción:**\n",
        "Escribe codigo que calcule el promedio de una lista de números y determine si es mayor o menor que un umbral dado.\n",
        "\n",
        "**Instrucciones:**\n",
        "```\n",
        "    1. Define una lista de números.\n",
        "    2. Calcula la suma total de los números.\n",
        "    3. Calcula el promedio.\n",
        "    4. Define un umbral y compara el promedio con el umbral usando operadores lógicos.\n",
        "    5. Imprime un mensaje indicando si el promedio es mayor o menor que el umbral.\n",
        "```\n",
        "\n"
      ],
      "metadata": {
        "id": "9PVhf4HFyR89"
      }
    },
    {
      "cell_type": "code",
      "source": [
        "#Ayuda 1\n",
        "\n",
        "#puedes usar sum para sumar todos los elementos\n",
        "sum([1,2,3])"
      ],
      "metadata": {
        "colab": {
          "base_uri": "https://localhost:8080/"
        },
        "id": "uMN6Qv7k36N0",
        "outputId": "922e93a5-0f93-4791-fd46-53e10f160ad1"
      },
      "execution_count": null,
      "outputs": [
        {
          "output_type": "execute_result",
          "data": {
            "text/plain": [
              "6"
            ]
          },
          "metadata": {},
          "execution_count": 115
        }
      ]
    },
    {
      "cell_type": "code",
      "source": [
        "#Ayuda 2\n",
        "\n",
        "#puedes usar len para calcular el total de elementos\n",
        "len([1,2,3])"
      ],
      "metadata": {
        "colab": {
          "base_uri": "https://localhost:8080/"
        },
        "id": "5nizmp-W4E1W",
        "outputId": "bd53f844-2068-4bed-929a-ed111a3e9592"
      },
      "execution_count": null,
      "outputs": [
        {
          "output_type": "execute_result",
          "data": {
            "text/plain": [
              "3"
            ]
          },
          "metadata": {},
          "execution_count": 116
        }
      ]
    },
    {
      "cell_type": "code",
      "execution_count": null,
      "metadata": {
        "id": "Rqj4KrD_x4WV"
      },
      "outputs": [],
      "source": []
    },
    {
      "cell_type": "markdown",
      "source": [
        "## Ejercicio 2: Listas y Bucles"
      ],
      "metadata": {
        "id": "5wHqUe1lzcR8"
      }
    },
    {
      "cell_type": "markdown",
      "source": [
        "**Descripción:**\n",
        "\n",
        "Crea codigo que itere sobre una lista de datos y cuente cuántos valores están por encima de un cierto valor umbral.\n",
        "\n",
        "**Instrucciones:**\n",
        "```\n",
        "    1. Define una lista de números.\n",
        "    2. Define un umbral.\n",
        "    3. Usa un bucle para contar cuántos números en la lista están por encima del umbral.\n",
        "    4. Imprime el resultado.\n",
        "```\n",
        "\n"
      ],
      "metadata": {
        "id": "G0kk28lWzpn3"
      }
    },
    {
      "cell_type": "code",
      "source": [],
      "metadata": {
        "id": "mtbDeBuozpEJ"
      },
      "execution_count": null,
      "outputs": []
    },
    {
      "cell_type": "markdown",
      "source": [
        "##  Ejercicio 3: Listas y Condicionales"
      ],
      "metadata": {
        "id": "WLnVcl7r0oGS"
      }
    },
    {
      "cell_type": "markdown",
      "source": [
        "**Descripción:**\n",
        "Escribe un programa que almacene los precios de varios productos en una lista y determine el precio máximo.\n",
        "\n",
        "**Instrucciones:**\n",
        "```\n",
        "1. Crea una lista de precios de productos.\n",
        "2. Usa un bucle para iterar sobre la lista de precios.\n",
        "3. Usa una condicional para encontrar el precio máximo.\n",
        "4. Imprime el resultado.\n",
        "```\n",
        "\n"
      ],
      "metadata": {
        "id": "51oPeqn10snG"
      }
    },
    {
      "cell_type": "code",
      "source": [],
      "metadata": {
        "id": "GK3yMxV10ma1"
      },
      "execution_count": null,
      "outputs": []
    },
    {
      "cell_type": "markdown",
      "source": [
        "## Ejercicio 4: Funciones"
      ],
      "metadata": {
        "id": "glHZVT0A1Jmd"
      }
    },
    {
      "cell_type": "markdown",
      "source": [
        "**Descripción:**\n",
        "Crea una función que reciba una lista de números y devuelva la suma de los números pares.\n",
        "\n",
        "**Instrucciones:**\n",
        "\n",
        "    1. Define una función que tome una lista como argumento.\n",
        "    2. Dentro de la función, usa un bucle y condicionales para sumar solo los números pares.\n",
        "    3. Devuelve la suma.\n",
        "    4. Llama a la función con una lista de números y muestra el resultado."
      ],
      "metadata": {
        "id": "MnMDnQbs1M-o"
      }
    },
    {
      "cell_type": "code",
      "source": [],
      "metadata": {
        "id": "jWDQPbRP072j"
      },
      "execution_count": null,
      "outputs": []
    },
    {
      "cell_type": "code",
      "source": [],
      "metadata": {
        "id": "DM22nl_Yeq3h"
      },
      "execution_count": null,
      "outputs": []
    }
  ]
}